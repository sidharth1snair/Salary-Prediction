{
 "cells": [
  {
   "cell_type": "code",
   "execution_count": 1,
   "id": "b86cebc8-e5f9-4e4c-9673-ff8c0b288bd8",
   "metadata": {},
   "outputs": [],
   "source": [
    "import pandas as pd\n",
    "from sklearn.model_selection import train_test_split\n",
    "from sklearn.preprocessing import OneHotEncoder\n",
    "from sklearn.compose import ColumnTransformer\n",
    "from sklearn.pipeline import Pipeline\n",
    "from sklearn.linear_model import LinearRegression, Lasso\n",
    "from sklearn.ensemble import RandomForestRegressor\n",
    "from sklearn.metrics import mean_squared_error\n",
    "from math import sqrt"
   ]
  },
  {
   "cell_type": "code",
   "execution_count": 2,
   "id": "ff4a87e7-5309-44b8-b110-6527bc41c438",
   "metadata": {},
   "outputs": [],
   "source": [
    "df = pd.read_csv('glassdoor_cleaned_new.csv')\n",
    "\n",
    "df = df.dropna(subset=['avg_salary_rupees'])\n",
    "\n",
    "X = df[['Job Title', 'Location', 'Rating', 'company_name_cleaned']]\n",
    "y = df['avg_salary_rupees']\n",
    "X = pd.get_dummies(X, columns=['Job Title', 'Location', 'company_name_cleaned'], drop_first=True)"
   ]
  },
  {
   "cell_type": "code",
   "execution_count": 3,
   "id": "ed92dfac-1738-442c-a8d9-6a1bb26e079b",
   "metadata": {},
   "outputs": [],
   "source": [
    "X = X.dropna()\n",
    "y = y.loc[X.index] \n",
    "X_train, X_test, y_train, y_test = train_test_split(X, y, test_size=0.2, random_state=42)"
   ]
  },
  {
   "cell_type": "code",
   "execution_count": 4,
   "id": "136b0aca-64e6-482c-b8ef-61e8000ded54",
   "metadata": {},
   "outputs": [],
   "source": [
    "models = {\n",
    "    \"Linear Regression\": LinearRegression(),\n",
    "    \"Lasso Regression\": Lasso(alpha=0.1),\n",
    "    \"Random Forest\": RandomForestRegressor(n_estimators=100, random_state=42)\n",
    "}"
   ]
  },
  {
   "cell_type": "code",
   "execution_count": 5,
   "id": "d9e7ef37-10b3-42d7-bf60-162775e385cc",
   "metadata": {},
   "outputs": [
    {
     "name": "stdout",
     "output_type": "stream",
     "text": [
      "Linear Regression ➡️ RMSE: 650,013.55\n"
     ]
    }
   ],
   "source": [
    "lr = LinearRegression()\n",
    "lr.fit(X_train, y_train)\n",
    "lr_rmse = sqrt(mean_squared_error(y_test, lr.predict(X_test)))\n",
    "print(f\"Linear Regression ➡️ RMSE: {lr_rmse:,.2f}\")"
   ]
  },
  {
   "cell_type": "code",
   "execution_count": 6,
   "id": "c45c4ec3-04c7-47f9-b068-d1bc7ee422cf",
   "metadata": {},
   "outputs": [
    {
     "name": "stdout",
     "output_type": "stream",
     "text": [
      "Lasso Regression ➡️ RMSE: 630,684.84\n"
     ]
    },
    {
     "name": "stderr",
     "output_type": "stream",
     "text": [
      "C:\\Users\\sidha\\AppData\\Local\\Programs\\Python\\Python311\\Lib\\site-packages\\sklearn\\linear_model\\_coordinate_descent.py:695: ConvergenceWarning: Objective did not converge. You might want to increase the number of iterations, check the scale of the features or consider increasing regularisation. Duality gap: 5.233e+11, tolerance: 4.568e+10\n",
      "  model = cd_fast.enet_coordinate_descent(\n"
     ]
    }
   ],
   "source": [
    "lasso = Lasso(alpha=0.1)\n",
    "lasso.fit(X_train, y_train)\n",
    "lasso_rmse = sqrt(mean_squared_error(y_test, lasso.predict(X_test)))\n",
    "print(f\"Lasso Regression ➡️ RMSE: {lasso_rmse:,.2f}\")"
   ]
  },
  {
   "cell_type": "code",
   "execution_count": 7,
   "id": "e21378f5-1e62-4b24-9796-7a4ca4492fd3",
   "metadata": {},
   "outputs": [
    {
     "name": "stdout",
     "output_type": "stream",
     "text": [
      "Random Forest ➡️ RMSE: 386,538.20\n"
     ]
    }
   ],
   "source": [
    "rf = RandomForestRegressor(n_estimators=100, random_state=42)\n",
    "rf.fit(X_train, y_train)\n",
    "rf_rmse = sqrt(mean_squared_error(y_test, rf.predict(X_test)))\n",
    "print(f\"Random Forest ➡️ RMSE: {rf_rmse:,.2f}\")"
   ]
  },
  {
   "cell_type": "code",
   "execution_count": 9,
   "id": "d8051fed-9dd6-442b-a422-fcbc0737c966",
   "metadata": {},
   "outputs": [],
   "source": [
    "from sklearn.ensemble import RandomForestRegressor\n",
    "from sklearn.model_selection import GridSearchCV\n",
    "from sklearn.metrics import make_scorer, mean_squared_error\n",
    "from math import sqrt\n",
    "\n",
    "\n",
    "rmse_scorer = make_scorer(lambda y_true, y_pred: sqrt(mean_squared_error(y_true, y_pred)))\n",
    "\n",
    "\n",
    "param_grid = {\n",
    "    'n_estimators': [100, 200],\n",
    "    'max_depth': [10, 20, None],\n",
    "    'min_samples_split': [2, 5],\n",
    "    'min_samples_leaf': [1, 3]\n",
    "}\n"
   ]
  },
  {
   "cell_type": "code",
   "execution_count": 10,
   "id": "b62e2ff8-62b8-4c32-a632-cc89c2b1f66c",
   "metadata": {},
   "outputs": [
    {
     "name": "stdout",
     "output_type": "stream",
     "text": [
      "Fitting 5 folds for each of 24 candidates, totalling 120 fits\n",
      "Best Cross-Validated RMSE: 678,575.60\n",
      "Best Parameters: {'max_depth': None, 'min_samples_leaf': 3, 'min_samples_split': 2, 'n_estimators': 100}\n"
     ]
    }
   ],
   "source": [
    "rf = RandomForestRegressor(random_state=42)\n",
    "\n",
    "grid = GridSearchCV(estimator=rf,\n",
    "                    param_grid=param_grid,\n",
    "                    scoring=rmse_scorer,\n",
    "                    cv=5,\n",
    "                    n_jobs=-1,\n",
    "                    verbose=1)\n",
    "\n",
    "grid.fit(X, y)\n",
    "print(f\"Best Cross-Validated RMSE: {grid.best_score_:,.2f}\")\n",
    "print(\"Best Parameters:\", grid.best_params_)"
   ]
  },
  {
   "cell_type": "code",
   "execution_count": 11,
   "id": "ae68026c-d8b6-4c0a-ac64-988f5f311dd0",
   "metadata": {},
   "outputs": [],
   "source": [
    "\n",
    "# from sklearn.linear_model import Lasso\n",
    "# from sklearn.model_selection import GridSearchCV\n",
    "\n",
    "# lasso_grid = GridSearchCV(\n",
    "#     estimator=Lasso(max_iter=50000), \n",
    "#     param_grid={'alpha': [0.1, 1, 10, 50, 100]},\n",
    "#     scoring='neg_mean_squared_error',\n",
    "#     cv=5\n",
    "# )\n",
    "\n",
    "# lasso_grid.fit(X, y)\n",
    "# print(\"Best alpha for Lasso:\", lasso_grid.best_params_)"
   ]
  },
  {
   "cell_type": "code",
   "execution_count": 14,
   "id": "59666995-3636-41b7-8554-9d7da0a6fe17",
   "metadata": {},
   "outputs": [],
   "source": [
    "from sklearn.ensemble import RandomForestRegressor\n",
    "from sklearn.linear_model import Lasso\n",
    "from sklearn.pipeline import make_pipeline\n",
    "from sklearn.preprocessing import StandardScaler\n",
    "from sklearn.ensemble import VotingRegressor\n",
    "\n",
    "rf_best = RandomForestRegressor(\n",
    "    n_estimators=100,\n",
    "    max_depth=None,\n",
    "    min_samples_split=2,\n",
    "    min_samples_leaf=3,\n",
    "    random_state=42  \n",
    ")\n",
    "\n",
    "lasso_tuned = make_pipeline(StandardScaler(), Lasso(alpha=100, max_iter=50000))\n",
    "\n",
    "ensemble = VotingRegressor([\n",
    "    ('rf', rf_best),\n",
    "    ('lasso', lasso_tuned),\n",
    "    ('lr', lr)\n",
    "])\n",
    "\n",
    "ensemble.fit(X_train, y_train)\n",
    "\n",
    "y_pred = ensemble.predict(X_test)\n"
   ]
  },
  {
   "cell_type": "code",
   "execution_count": 15,
   "id": "c002fd8f-c742-4b91-9d6e-71344ff93a0c",
   "metadata": {},
   "outputs": [
    {
     "name": "stdout",
     "output_type": "stream",
     "text": [
      "🔁 Updated Ensemble Test ➡️ RMSE: 453,568.93\n"
     ]
    }
   ],
   "source": [
    "from sklearn.metrics import mean_squared_error\n",
    "from math import sqrt\n",
    "\n",
    "rmse = sqrt(mean_squared_error(y_test, y_pred))\n",
    "print(f\"🔁 Updated Ensemble Test ➡️ RMSE: {rmse:,.2f}\")\n"
   ]
  },
  {
   "cell_type": "code",
   "execution_count": null,
   "id": "c53fbfd4-c50f-4e6a-97ec-f66513dfae63",
   "metadata": {},
   "outputs": [],
   "source": []
  }
 ],
 "metadata": {
  "kernelspec": {
   "display_name": "Python 3 (ipykernel)",
   "language": "python",
   "name": "python3"
  },
  "language_info": {
   "codemirror_mode": {
    "name": "ipython",
    "version": 3
   },
   "file_extension": ".py",
   "mimetype": "text/x-python",
   "name": "python",
   "nbconvert_exporter": "python",
   "pygments_lexer": "ipython3",
   "version": "3.11.8"
  }
 },
 "nbformat": 4,
 "nbformat_minor": 5
}
