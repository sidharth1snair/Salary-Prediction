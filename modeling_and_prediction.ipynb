{
 "cells": [
  {
   "cell_type": "code",
   "execution_count": 1,
   "id": "83c91193-c895-47ee-b633-4c81364aeb98",
   "metadata": {},
   "outputs": [],
   "source": [
    "import pandas as pd\n",
    "from sklearn.model_selection import train_test_split\n",
    "from sklearn.preprocessing import OneHotEncoder\n",
    "from sklearn.compose import ColumnTransformer\n",
    "from sklearn.pipeline import Pipeline\n",
    "from sklearn.linear_model import LinearRegression, Lasso\n",
    "from sklearn.ensemble import RandomForestRegressor\n",
    "from sklearn.metrics import mean_squared_error\n",
    "from math import sqrt\n"
   ]
  },
  {
   "cell_type": "code",
   "execution_count": 2,
   "id": "257888e5-621f-4d19-bceb-fcda61537297",
   "metadata": {},
   "outputs": [],
   "source": [
    "df = pd.read_csv('glassdoor_cleaned_new.csv')\n"
   ]
  },
  {
   "cell_type": "code",
   "execution_count": 3,
   "id": "4f70c9b8-751a-4a87-af3b-be7a5392e493",
   "metadata": {},
   "outputs": [],
   "source": [
    "df = df.dropna(subset=['avg_salary_rupees'])\n"
   ]
  },
  {
   "cell_type": "code",
   "execution_count": 4,
   "id": "655f7b16-43b1-472b-b894-01e5c73ea63f",
   "metadata": {},
   "outputs": [],
   "source": [
    "X = df[['Job Title', 'Location', 'Rating', 'company_name_cleaned']]\n",
    "y = df['avg_salary_rupees']"
   ]
  },
  {
   "cell_type": "code",
   "execution_count": 5,
   "id": "6c088446-0ae6-4ab3-8b77-d132628fa51b",
   "metadata": {},
   "outputs": [],
   "source": [
    "X = pd.get_dummies(X, columns=['Job Title', 'Location', 'company_name_cleaned'], drop_first=True)\n"
   ]
  },
  {
   "cell_type": "code",
   "execution_count": 6,
   "id": "9e8e1f73-98ca-44d6-9537-34fc5d7017d5",
   "metadata": {},
   "outputs": [],
   "source": [
    "X = X.dropna()\n",
    "y = y.loc[X.index] "
   ]
  },
  {
   "cell_type": "code",
   "execution_count": 7,
   "id": "805d5e06-5554-408e-8a6f-3758d204d451",
   "metadata": {},
   "outputs": [],
   "source": [
    "X_train, X_test, y_train, y_test = train_test_split(X, y, test_size=0.2, random_state=42)\n",
    "\n",
    "# Models\n",
    "models = {\n",
    "    \"Linear Regression\": LinearRegression(),\n",
    "    \"Lasso Regression\": Lasso(alpha=0.1),\n",
    "    \"Random Forest\": RandomForestRegressor(n_estimators=100, random_state=42)\n",
    "}"
   ]
  },
  {
   "cell_type": "code",
   "execution_count": 8,
   "id": "86bc7098-762c-48dc-ad5e-5a6b8576e4cb",
   "metadata": {},
   "outputs": [
    {
     "name": "stdout",
     "output_type": "stream",
     "text": [
      "Linear Regression ➡️ RMSE: 650,013.55\n"
     ]
    }
   ],
   "source": [
    "# Linear Regression\n",
    "lr = LinearRegression()\n",
    "lr.fit(X_train, y_train)\n",
    "lr_rmse = sqrt(mean_squared_error(y_test, lr.predict(X_test)))\n",
    "print(f\"Linear Regression ➡️ RMSE: {lr_rmse:,.2f}\")"
   ]
  },
  {
   "cell_type": "code",
   "execution_count": 9,
   "id": "acce1a7e-a0f2-4027-a466-4f30fc6480c7",
   "metadata": {},
   "outputs": [
    {
     "name": "stdout",
     "output_type": "stream",
     "text": [
      "Lasso Regression ➡️ RMSE: 630,684.84\n"
     ]
    },
    {
     "name": "stderr",
     "output_type": "stream",
     "text": [
      "C:\\Users\\sidha\\AppData\\Local\\Programs\\Python\\Python311\\Lib\\site-packages\\sklearn\\linear_model\\_coordinate_descent.py:695: ConvergenceWarning: Objective did not converge. You might want to increase the number of iterations, check the scale of the features or consider increasing regularisation. Duality gap: 5.233e+11, tolerance: 4.568e+10\n",
      "  model = cd_fast.enet_coordinate_descent(\n"
     ]
    }
   ],
   "source": [
    "# Lasso Regression\n",
    "lasso = Lasso(alpha=0.1)\n",
    "lasso.fit(X_train, y_train)\n",
    "lasso_rmse = sqrt(mean_squared_error(y_test, lasso.predict(X_test)))\n",
    "print(f\"Lasso Regression ➡️ RMSE: {lasso_rmse:,.2f}\")"
   ]
  },
  {
   "cell_type": "code",
   "execution_count": 10,
   "id": "1434ad21-f3c0-4f85-91bf-9dc47dbf10e2",
   "metadata": {},
   "outputs": [
    {
     "name": "stdout",
     "output_type": "stream",
     "text": [
      "Random Forest ➡️ RMSE: 386,538.20\n"
     ]
    }
   ],
   "source": [
    "rf = RandomForestRegressor(n_estimators=100, random_state=42)\n",
    "rf.fit(X_train, y_train)\n",
    "rf_rmse = sqrt(mean_squared_error(y_test, rf.predict(X_test)))\n",
    "print(f\"Random Forest ➡️ RMSE: {rf_rmse:,.2f}\")"
   ]
  },
  {
   "cell_type": "code",
   "execution_count": 11,
   "id": "7ef61d38-2cfe-4492-8419-cf9379f4a080",
   "metadata": {},
   "outputs": [
    {
     "data": {
      "text/plain": [
       "count    1.204000e+03\n",
       "mean     6.710104e+05\n",
       "std      6.906939e+05\n",
       "min      0.000000e+00\n",
       "25%      4.500000e+05\n",
       "50%      5.500000e+05\n",
       "75%      7.500000e+05\n",
       "max      9.900000e+06\n",
       "Name: avg_salary_rupees, dtype: float64"
      ]
     },
     "execution_count": 11,
     "metadata": {},
     "output_type": "execute_result"
    }
   ],
   "source": [
    "df['avg_salary_rupees'].describe()\n"
   ]
  },
  {
   "cell_type": "code",
   "execution_count": null,
   "id": "13f3c648-e58f-4077-9959-a882d1dbb4f1",
   "metadata": {},
   "outputs": [],
   "source": []
  },
  {
   "cell_type": "code",
   "execution_count": 12,
   "id": "2140068e-cac6-4f2e-acc6-b3fdcef0a4e1",
   "metadata": {},
   "outputs": [],
   "source": [
    "from sklearn.ensemble import RandomForestRegressor\n",
    "from sklearn.model_selection import GridSearchCV\n",
    "from sklearn.metrics import make_scorer, mean_squared_error\n",
    "from math import sqrt\n"
   ]
  },
  {
   "cell_type": "code",
   "execution_count": 13,
   "id": "366cb24b-8912-4f5f-8998-ed55476ac8c0",
   "metadata": {},
   "outputs": [],
   "source": [
    "\n",
    "rmse_scorer = make_scorer(lambda y_true, y_pred: sqrt(mean_squared_error(y_true, y_pred)))\n",
    "\n",
    "\n",
    "param_grid = {\n",
    "    'n_estimators': [100, 200],\n",
    "    'max_depth': [10, 20, None],\n",
    "    'min_samples_split': [2, 5],\n",
    "    'min_samples_leaf': [1, 3]\n",
    "}"
   ]
  },
  {
   "cell_type": "code",
   "execution_count": null,
   "id": "cd6db1d0-70ac-437e-8385-2b7c17fa9dd3",
   "metadata": {},
   "outputs": [
    {
     "name": "stdout",
     "output_type": "stream",
     "text": [
      "Fitting 5 folds for each of 24 candidates, totalling 120 fits\n"
     ]
    }
   ],
   "source": [
    "\n",
    "rf = RandomForestRegressor(random_state=42)\n",
    "\n",
    "grid = GridSearchCV(estimator=rf,\n",
    "                    param_grid=param_grid,\n",
    "                    scoring=rmse_scorer,\n",
    "                    cv=5,\n",
    "                    n_jobs=-1,\n",
    "                    verbose=1)\n",
    "\n",
    "grid.fit(X, y)"
   ]
  },
  {
   "cell_type": "code",
   "execution_count": null,
   "id": "accf93db-6595-41bb-ad4d-e9f4090bedea",
   "metadata": {},
   "outputs": [],
   "source": [
    "print(f\"Best Cross-Validated RMSE: {grid.best_score_:,.2f}\")\n",
    "print(\"Best Parameters:\", grid.best_params_)"
   ]
  },
  {
   "cell_type": "code",
   "execution_count": null,
   "id": "9f4210d6-a3e3-4733-b585-9043014f76c8",
   "metadata": {},
   "outputs": [],
   "source": [
    "# from sklearn.linear_model import Lasso\n",
    "# from sklearn.model_selection import GridSearchCV\n",
    "\n",
    "# lasso_grid = GridSearchCV(\n",
    "#     estimator=Lasso(max_iter=50000), \n",
    "#     param_grid={'alpha': [0.1, 1, 10, 50, 100]},\n",
    "#     scoring='neg_mean_squared_error',\n",
    "#     cv=5\n",
    "# )\n",
    "\n",
    "# lasso_grid.fit(X, y)\n",
    "# print(\"Best alpha for Lasso:\", lasso_grid.best_params_)\n"
   ]
  },
  {
   "cell_type": "code",
   "execution_count": null,
   "id": "ddf2da38-877c-4207-9cef-40a30d5cdab1",
   "metadata": {},
   "outputs": [],
   "source": [
    "from sklearn.linear_model import Lasso\n",
    "from sklearn.pipeline import make_pipeline\n",
    "from sklearn.preprocessing import StandardScaler\n",
    "from sklearn.ensemble import VotingRegressor\n",
    "\n",
    "lasso_tuned = make_pipeline(StandardScaler(), Lasso(alpha=100, max_iter=50000))\n",
    "\n",
    "ensemble = VotingRegressor([\n",
    "    ('rf', rf),\n",
    "    ('lasso', lasso_tuned),\n",
    "    ('lr', lr)  \n",
    "])\n",
    "\n",
    "ensemble.fit(X_train, y_train)\n",
    "y_pred = ensemble.predict(X_test)\n",
    "\n",
    "from sklearn.metrics import mean_squared_error\n",
    "from math import sqrt\n",
    "\n",
    "rmse = sqrt(mean_squared_error(y_test, y_pred))\n",
    "print(f\"🔁 Updated Ensemble Test ➡️ RMSE: {rmse:,.2f}\")\n"
   ]
  },
  {
   "cell_type": "code",
   "execution_count": null,
   "id": "6e435149-0cfa-40ac-8d10-3a1eb057a924",
   "metadata": {},
   "outputs": [],
   "source": []
  }
 ],
 "metadata": {
  "kernelspec": {
   "display_name": "Python 3 (ipykernel)",
   "language": "python",
   "name": "python3"
  },
  "language_info": {
   "codemirror_mode": {
    "name": "ipython",
    "version": 3
   },
   "file_extension": ".py",
   "mimetype": "text/x-python",
   "name": "python",
   "nbconvert_exporter": "python",
   "pygments_lexer": "ipython3",
   "version": "3.11.8"
  }
 },
 "nbformat": 4,
 "nbformat_minor": 5
}
