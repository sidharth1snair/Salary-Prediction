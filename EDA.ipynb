{
 "cells": [
  {
   "cell_type": "code",
   "execution_count": 1,
   "id": "39a748f9-6b90-491f-b4ce-16940398b9c7",
   "metadata": {},
   "outputs": [],
   "source": [
    "import pandas as pd\n",
    "\n",
    "# Load the CSV\n",
    "df = pd.read_csv(\"glassdoor_cleaned_new.csv\")\n",
    "\n"
   ]
  },
  {
   "cell_type": "code",
   "execution_count": 2,
   "id": "1bec9877-4a1e-49b8-92bd-d6a3bfd0502f",
   "metadata": {},
   "outputs": [
    {
     "data": {
      "text/html": [
       "<div>\n",
       "<style scoped>\n",
       "    .dataframe tbody tr th:only-of-type {\n",
       "        vertical-align: middle;\n",
       "    }\n",
       "\n",
       "    .dataframe tbody tr th {\n",
       "        vertical-align: top;\n",
       "    }\n",
       "\n",
       "    .dataframe thead th {\n",
       "        text-align: right;\n",
       "    }\n",
       "</style>\n",
       "<table border=\"1\" class=\"dataframe\">\n",
       "  <thead>\n",
       "    <tr style=\"text-align: right;\">\n",
       "      <th></th>\n",
       "      <th>Job Title</th>\n",
       "      <th>Location</th>\n",
       "      <th>Rating</th>\n",
       "      <th>monthly</th>\n",
       "      <th>min_salary_rupees</th>\n",
       "      <th>max_salary_rupees</th>\n",
       "      <th>avg_salary_rupees</th>\n",
       "      <th>company_name_cleaned</th>\n",
       "      <th>Standardized Title</th>\n",
       "    </tr>\n",
       "  </thead>\n",
       "  <tbody>\n",
       "    <tr>\n",
       "      <th>0</th>\n",
       "      <td>Data Scientist</td>\n",
       "      <td>Bhubaneshwar</td>\n",
       "      <td>4.3</td>\n",
       "      <td>0</td>\n",
       "      <td>1000000</td>\n",
       "      <td>2300000</td>\n",
       "      <td>1650000.0</td>\n",
       "      <td>Nirmalya Labs</td>\n",
       "      <td>Data Scientist</td>\n",
       "    </tr>\n",
       "    <tr>\n",
       "      <th>1</th>\n",
       "      <td>AI Operations and Optimization Manager</td>\n",
       "      <td>Pune</td>\n",
       "      <td>3.7</td>\n",
       "      <td>0</td>\n",
       "      <td>500000</td>\n",
       "      <td>600000</td>\n",
       "      <td>550000.0</td>\n",
       "      <td>Ecolab Inc.</td>\n",
       "      <td>AI Engineer</td>\n",
       "    </tr>\n",
       "    <tr>\n",
       "      <th>2</th>\n",
       "      <td>Data Scientist II, Last Mile Science</td>\n",
       "      <td>Bengaluru</td>\n",
       "      <td>3.6</td>\n",
       "      <td>0</td>\n",
       "      <td>500000</td>\n",
       "      <td>1000000</td>\n",
       "      <td>750000.0</td>\n",
       "      <td>ADCI - Karnataka</td>\n",
       "      <td>Data Scientist</td>\n",
       "    </tr>\n",
       "    <tr>\n",
       "      <th>3</th>\n",
       "      <td>Senior Data Scientist</td>\n",
       "      <td>Gurgaon</td>\n",
       "      <td>4.0</td>\n",
       "      <td>0</td>\n",
       "      <td>700000</td>\n",
       "      <td>900000</td>\n",
       "      <td>800000.0</td>\n",
       "      <td>Gartner</td>\n",
       "      <td>Data Scientist</td>\n",
       "    </tr>\n",
       "    <tr>\n",
       "      <th>4</th>\n",
       "      <td>Data Scientist</td>\n",
       "      <td>Hyderābād</td>\n",
       "      <td>3.9</td>\n",
       "      <td>0</td>\n",
       "      <td>500000</td>\n",
       "      <td>1000000</td>\n",
       "      <td>750000.0</td>\n",
       "      <td>World Wide Technology Holding, LLC</td>\n",
       "      <td>Data Scientist</td>\n",
       "    </tr>\n",
       "    <tr>\n",
       "      <th>...</th>\n",
       "      <td>...</td>\n",
       "      <td>...</td>\n",
       "      <td>...</td>\n",
       "      <td>...</td>\n",
       "      <td>...</td>\n",
       "      <td>...</td>\n",
       "      <td>...</td>\n",
       "      <td>...</td>\n",
       "      <td>...</td>\n",
       "    </tr>\n",
       "    <tr>\n",
       "      <th>787</th>\n",
       "      <td>Frontend React Developer (Lead)</td>\n",
       "      <td>Bengaluru</td>\n",
       "      <td>3.7</td>\n",
       "      <td>0</td>\n",
       "      <td>600000</td>\n",
       "      <td>1000000</td>\n",
       "      <td>800000.0</td>\n",
       "      <td>Infogain</td>\n",
       "      <td>Frontend Developer</td>\n",
       "    </tr>\n",
       "    <tr>\n",
       "      <th>788</th>\n",
       "      <td>Frontend Developer (React)</td>\n",
       "      <td>Chennai</td>\n",
       "      <td>3.8</td>\n",
       "      <td>0</td>\n",
       "      <td>600000</td>\n",
       "      <td>900000</td>\n",
       "      <td>750000.0</td>\n",
       "      <td>Ideas2IT Technologies</td>\n",
       "      <td>Frontend Developer</td>\n",
       "    </tr>\n",
       "    <tr>\n",
       "      <th>789</th>\n",
       "      <td>ReactJS Developer</td>\n",
       "      <td>India</td>\n",
       "      <td>4.5</td>\n",
       "      <td>0</td>\n",
       "      <td>200000</td>\n",
       "      <td>700000</td>\n",
       "      <td>450000.0</td>\n",
       "      <td>LoreMine Technologies Pvt Ltd</td>\n",
       "      <td>Frontend Developer</td>\n",
       "    </tr>\n",
       "    <tr>\n",
       "      <th>790</th>\n",
       "      <td>Junior Front End Developer</td>\n",
       "      <td>Mohali</td>\n",
       "      <td>4.9</td>\n",
       "      <td>1</td>\n",
       "      <td>15000</td>\n",
       "      <td>25000</td>\n",
       "      <td>20000.0</td>\n",
       "      <td>Primotech</td>\n",
       "      <td>Frontend Developer</td>\n",
       "    </tr>\n",
       "    <tr>\n",
       "      <th>791</th>\n",
       "      <td>REACTJS FRONTEND DEVELOPER</td>\n",
       "      <td>Bengaluru</td>\n",
       "      <td>4.1</td>\n",
       "      <td>0</td>\n",
       "      <td>300000</td>\n",
       "      <td>400000</td>\n",
       "      <td>350000.0</td>\n",
       "      <td>Swathi Business Solutions</td>\n",
       "      <td>Frontend Developer</td>\n",
       "    </tr>\n",
       "  </tbody>\n",
       "</table>\n",
       "<p>792 rows × 9 columns</p>\n",
       "</div>"
      ],
      "text/plain": [
       "                                  Job Title      Location  Rating  monthly  \\\n",
       "0                            Data Scientist  Bhubaneshwar     4.3        0   \n",
       "1    AI Operations and Optimization Manager          Pune     3.7        0   \n",
       "2      Data Scientist II, Last Mile Science     Bengaluru     3.6        0   \n",
       "3                     Senior Data Scientist       Gurgaon     4.0        0   \n",
       "4                            Data Scientist     Hyderābād     3.9        0   \n",
       "..                                      ...           ...     ...      ...   \n",
       "787         Frontend React Developer (Lead)     Bengaluru     3.7        0   \n",
       "788              Frontend Developer (React)       Chennai     3.8        0   \n",
       "789                       ReactJS Developer         India     4.5        0   \n",
       "790              Junior Front End Developer        Mohali     4.9        1   \n",
       "791              REACTJS FRONTEND DEVELOPER     Bengaluru     4.1        0   \n",
       "\n",
       "     min_salary_rupees  max_salary_rupees  avg_salary_rupees  \\\n",
       "0              1000000            2300000          1650000.0   \n",
       "1               500000             600000           550000.0   \n",
       "2               500000            1000000           750000.0   \n",
       "3               700000             900000           800000.0   \n",
       "4               500000            1000000           750000.0   \n",
       "..                 ...                ...                ...   \n",
       "787             600000            1000000           800000.0   \n",
       "788             600000             900000           750000.0   \n",
       "789             200000             700000           450000.0   \n",
       "790              15000              25000            20000.0   \n",
       "791             300000             400000           350000.0   \n",
       "\n",
       "                   company_name_cleaned  Standardized Title  \n",
       "0                         Nirmalya Labs      Data Scientist  \n",
       "1                           Ecolab Inc.         AI Engineer  \n",
       "2                      ADCI - Karnataka      Data Scientist  \n",
       "3                               Gartner      Data Scientist  \n",
       "4    World Wide Technology Holding, LLC      Data Scientist  \n",
       "..                                  ...                 ...  \n",
       "787                            Infogain  Frontend Developer  \n",
       "788               Ideas2IT Technologies  Frontend Developer  \n",
       "789       LoreMine Technologies Pvt Ltd  Frontend Developer  \n",
       "790                           Primotech  Frontend Developer  \n",
       "791           Swathi Business Solutions  Frontend Developer  \n",
       "\n",
       "[792 rows x 9 columns]"
      ]
     },
     "execution_count": 2,
     "metadata": {},
     "output_type": "execute_result"
    }
   ],
   "source": [
    "df"
   ]
  },
  {
   "cell_type": "code",
   "execution_count": 3,
   "id": "cfa6c8b9-db84-46eb-991f-86c4d7cd762f",
   "metadata": {},
   "outputs": [
    {
     "data": {
      "text/plain": [
       "(792, 9)"
      ]
     },
     "execution_count": 3,
     "metadata": {},
     "output_type": "execute_result"
    }
   ],
   "source": [
    "df.shape"
   ]
  },
  {
   "cell_type": "code",
   "execution_count": 4,
   "id": "22b08f9a-f8bd-4b0c-8359-e65878c1acbe",
   "metadata": {},
   "outputs": [
    {
     "data": {
      "text/html": [
       "<div>\n",
       "<style scoped>\n",
       "    .dataframe tbody tr th:only-of-type {\n",
       "        vertical-align: middle;\n",
       "    }\n",
       "\n",
       "    .dataframe tbody tr th {\n",
       "        vertical-align: top;\n",
       "    }\n",
       "\n",
       "    .dataframe thead th {\n",
       "        text-align: right;\n",
       "    }\n",
       "</style>\n",
       "<table border=\"1\" class=\"dataframe\">\n",
       "  <thead>\n",
       "    <tr style=\"text-align: right;\">\n",
       "      <th></th>\n",
       "      <th>Rating</th>\n",
       "      <th>monthly</th>\n",
       "      <th>min_salary_rupees</th>\n",
       "      <th>max_salary_rupees</th>\n",
       "      <th>avg_salary_rupees</th>\n",
       "    </tr>\n",
       "  </thead>\n",
       "  <tbody>\n",
       "    <tr>\n",
       "      <th>count</th>\n",
       "      <td>733.000000</td>\n",
       "      <td>792.000000</td>\n",
       "      <td>7.920000e+02</td>\n",
       "      <td>7.920000e+02</td>\n",
       "      <td>7.920000e+02</td>\n",
       "    </tr>\n",
       "    <tr>\n",
       "      <th>mean</th>\n",
       "      <td>3.862074</td>\n",
       "      <td>0.085859</td>\n",
       "      <td>5.338687e+05</td>\n",
       "      <td>8.347033e+05</td>\n",
       "      <td>6.842860e+05</td>\n",
       "    </tr>\n",
       "    <tr>\n",
       "      <th>std</th>\n",
       "      <td>0.613938</td>\n",
       "      <td>0.280332</td>\n",
       "      <td>7.400326e+05</td>\n",
       "      <td>7.624247e+05</td>\n",
       "      <td>6.885511e+05</td>\n",
       "    </tr>\n",
       "    <tr>\n",
       "      <th>min</th>\n",
       "      <td>0.000000</td>\n",
       "      <td>0.000000</td>\n",
       "      <td>0.000000e+00</td>\n",
       "      <td>0.000000e+00</td>\n",
       "      <td>0.000000e+00</td>\n",
       "    </tr>\n",
       "    <tr>\n",
       "      <th>25%</th>\n",
       "      <td>3.600000</td>\n",
       "      <td>0.000000</td>\n",
       "      <td>3.000000e+05</td>\n",
       "      <td>6.000000e+05</td>\n",
       "      <td>4.500000e+05</td>\n",
       "    </tr>\n",
       "    <tr>\n",
       "      <th>50%</th>\n",
       "      <td>3.900000</td>\n",
       "      <td>0.000000</td>\n",
       "      <td>4.000000e+05</td>\n",
       "      <td>8.000000e+05</td>\n",
       "      <td>6.000000e+05</td>\n",
       "    </tr>\n",
       "    <tr>\n",
       "      <th>75%</th>\n",
       "      <td>4.200000</td>\n",
       "      <td>0.000000</td>\n",
       "      <td>6.000000e+05</td>\n",
       "      <td>9.000000e+05</td>\n",
       "      <td>7.500000e+05</td>\n",
       "    </tr>\n",
       "    <tr>\n",
       "      <th>max</th>\n",
       "      <td>5.000000</td>\n",
       "      <td>1.000000</td>\n",
       "      <td>9.700000e+06</td>\n",
       "      <td>9.000000e+06</td>\n",
       "      <td>8.000000e+06</td>\n",
       "    </tr>\n",
       "  </tbody>\n",
       "</table>\n",
       "</div>"
      ],
      "text/plain": [
       "           Rating     monthly  min_salary_rupees  max_salary_rupees  \\\n",
       "count  733.000000  792.000000       7.920000e+02       7.920000e+02   \n",
       "mean     3.862074    0.085859       5.338687e+05       8.347033e+05   \n",
       "std      0.613938    0.280332       7.400326e+05       7.624247e+05   \n",
       "min      0.000000    0.000000       0.000000e+00       0.000000e+00   \n",
       "25%      3.600000    0.000000       3.000000e+05       6.000000e+05   \n",
       "50%      3.900000    0.000000       4.000000e+05       8.000000e+05   \n",
       "75%      4.200000    0.000000       6.000000e+05       9.000000e+05   \n",
       "max      5.000000    1.000000       9.700000e+06       9.000000e+06   \n",
       "\n",
       "       avg_salary_rupees  \n",
       "count       7.920000e+02  \n",
       "mean        6.842860e+05  \n",
       "std         6.885511e+05  \n",
       "min         0.000000e+00  \n",
       "25%         4.500000e+05  \n",
       "50%         6.000000e+05  \n",
       "75%         7.500000e+05  \n",
       "max         8.000000e+06  "
      ]
     },
     "execution_count": 4,
     "metadata": {},
     "output_type": "execute_result"
    }
   ],
   "source": [
    "df.describe()"
   ]
  },
  {
   "cell_type": "code",
   "execution_count": 5,
   "id": "875f0a6e-98c4-4db4-8336-dc7f3ba8d406",
   "metadata": {},
   "outputs": [
    {
     "name": "stdout",
     "output_type": "stream",
     "text": [
      "<class 'pandas.core.frame.DataFrame'>\n",
      "RangeIndex: 792 entries, 0 to 791\n",
      "Data columns (total 9 columns):\n",
      " #   Column                Non-Null Count  Dtype  \n",
      "---  ------                --------------  -----  \n",
      " 0   Job Title             792 non-null    object \n",
      " 1   Location              779 non-null    object \n",
      " 2   Rating                733 non-null    float64\n",
      " 3   monthly               792 non-null    int64  \n",
      " 4   min_salary_rupees     792 non-null    int64  \n",
      " 5   max_salary_rupees     792 non-null    int64  \n",
      " 6   avg_salary_rupees     792 non-null    float64\n",
      " 7   company_name_cleaned  792 non-null    object \n",
      " 8   Standardized Title    792 non-null    object \n",
      "dtypes: float64(2), int64(3), object(4)\n",
      "memory usage: 55.8+ KB\n"
     ]
    }
   ],
   "source": [
    "df.info()"
   ]
  },
  {
   "cell_type": "code",
   "execution_count": 6,
   "id": "55bc099c-40fb-499d-ad87-4257dfcdfc91",
   "metadata": {},
   "outputs": [
    {
     "name": "stdout",
     "output_type": "stream",
     "text": [
      "Location    13\n",
      "Rating      59\n",
      "dtype: int64\n"
     ]
    }
   ],
   "source": [
    "missing = df.isnull().sum()\n",
    "print(missing[missing > 0])\n"
   ]
  },
  {
   "cell_type": "code",
   "execution_count": 7,
   "id": "a8b9f39d-4d12-485c-b832-9a3b22444808",
   "metadata": {},
   "outputs": [
    {
     "name": "stdout",
     "output_type": "stream",
     "text": [
      "Duplicate rows: 0\n"
     ]
    }
   ],
   "source": [
    "print(\"Duplicate rows:\", df.duplicated().sum())\n"
   ]
  },
  {
   "cell_type": "code",
   "execution_count": 8,
   "id": "13056ef7-cb55-4425-a456-e5b680e9d1d5",
   "metadata": {},
   "outputs": [
    {
     "name": "stdout",
     "output_type": "stream",
     "text": [
      "Location\n",
      "Bengaluru    277\n",
      "Hyderābād     73\n",
      "Pune          63\n",
      "Chennai       59\n",
      "Remote        45\n",
      "India         43\n",
      "Gurgaon       43\n",
      "Noida         30\n",
      "Mumbai        29\n",
      "Mohali        22\n",
      "Name: count, dtype: int64\n"
     ]
    }
   ],
   "source": [
    "print(df['Location'].value_counts().head(10))"
   ]
  },
  {
   "cell_type": "code",
   "execution_count": 9,
   "id": "c5e2e992-a9f2-4dc2-9731-ec52b031167d",
   "metadata": {},
   "outputs": [
    {
     "name": "stdout",
     "output_type": "stream",
     "text": [
      "company_name_cleaned\n",
      "Optum            13\n",
      "Qualcomm          9\n",
      "Google            9\n",
      "EY                9\n",
      "Visa              8\n",
      "Wipro Limited     7\n",
      "Target            6\n",
      "Apple             6\n",
      "Microsoft         6\n",
      "Citigroup         5\n",
      "Name: count, dtype: int64\n"
     ]
    }
   ],
   "source": [
    "print(df['company_name_cleaned'].value_counts().head(10))"
   ]
  },
  {
   "cell_type": "code",
   "execution_count": 10,
   "id": "ba8079ab-a37a-4f57-b2af-83956bedea9e",
   "metadata": {},
   "outputs": [
    {
     "data": {
      "image/png": "[encoded data removed]",
      "text/plain": [
       "<Figure size 640x480 with 1 Axes>"
      ]
     },
     "metadata": {},
     "output_type": "display_data"
    }
   ],
   "source": [
    "import seaborn as sns\n",
    "import matplotlib.pyplot as plt\n",
    "bins = [0, 500000, 1000000, 2000000, 4000000, 8000000, 20000000]\n",
    "labels = ['<5L', '5–10L', '10–20L', '20–40L', '40–80L', '80L+']\n",
    "df['Salary'] = pd.cut(df['avg_salary_rupees'], bins=bins, labels=labels)\n",
    "\n",
    "sns.countplot(x='Salary', data=df, order=labels)\n",
    "plt.title(\"Salary Distribution\")\n",
    "plt.show()\n"
   ]
  },
  {
   "cell_type": "code",
   "execution_count": 11,
   "id": "fc32de37-5bd7-4b1d-9530-cc412158e704",
   "metadata": {},
   "outputs": [
    {
     "data": {
      "image/png": "[encoded data removed]",
      "text/plain": [
       "<Figure size 1000x600 with 1 Axes>"
      ]
     },
     "metadata": {},
     "output_type": "display_data"
    }
   ],
   "source": [
    "top_roles = df['Standardized Title'].value_counts().nlargest(7).index\n",
    "\n",
    "# Filter DataFrame to include only those roles\n",
    "top_df = df[df['Standardized Title'].isin(top_roles)]\n",
    "\n",
    "# Plot boxplot\n",
    "plt.figure(figsize=(10, 6))\n",
    "sns.boxplot(x='Standardized Title', y='avg_salary_rupees', data=top_df)\n",
    "plt.xticks(rotation=45)\n",
    "plt.title(\"Salary Distribution by Top 7 Job Roles\")\n",
    "plt.ylabel(\"Average Salary (INR)\")\n",
    "plt.xlabel(\"Job Role\")\n",
    "plt.tight_layout()\n",
    "plt.show()"
   ]
  },
  {
   "cell_type": "code",
   "execution_count": 12,
   "id": "a5c03437-62c1-4649-8e88-33e1e96fd183",
   "metadata": {},
   "outputs": [],
   "source": [
    "# import matplotlib.ticker as mtick\n",
    "\n",
    "# plt.figure(figsize=(10, 6))\n",
    "# sns.histplot(df_valid['avg_salary_rupees'], bins=30, kde=True, color='skyblue')\n",
    "\n",
    "# plt.title(\"Distribution of Average Salary (Rupees)\", fontsize=14)\n",
    "# plt.xlabel(\"Average Salary (INR)\", fontsize=12)\n",
    "# plt.ylabel(\"Frequency\", fontsize=12)\n",
    "\n",
    "# formatter = mtick.FuncFormatter(lambda x, _: f\"{int(x):,}\")\n",
    "# plt.gca().xaxis.set_major_formatter(formatter)\n",
    "\n",
    "# plt.grid(True)\n",
    "# plt.tight_layout()\n",
    "# plt.show()\n"
   ]
  },
  {
   "cell_type": "code",
   "execution_count": 13,
   "id": "00619eb3-66a2-4bb6-a3e7-4c017d100701",
   "metadata": {},
   "outputs": [
    {
     "data": {
      "image/png": "[encoded data removed]",
      "text/plain": [
       "<Figure size 640x480 with 1 Axes>"
      ]
     },
     "metadata": {},
     "output_type": "display_data"
    }
   ],
   "source": [
    "\n",
    "filtered_df = df[df['Location'].str.strip().str.lower() != 'india']\n",
    "\n",
    "\n",
    "top_locs = filtered_df['Location'].value_counts().head(10)\n",
    "\n",
    "top_locs.plot(kind='barh', color='skyblue')\n",
    "plt.title(\"Top 10 Job Location\")\n",
    "plt.xlabel(\"Number of Job Listings\")\n",
    "plt.ylabel(\"Location\")\n",
    "plt.grid(True)\n",
    "plt.tight_layout()\n",
    "plt.show()\n"
   ]
  },
  {
   "cell_type": "code",
   "execution_count": 14,
   "id": "ac067627-eb62-4dd6-b2d0-fe35a74d0cc3",
   "metadata": {},
   "outputs": [],
   "source": [
    "# df.to_csv(\"glassdoor_cleaned_new_final.csv\", index=False)\n"
   ]
  },
  {
   "cell_type": "code",
   "execution_count": null,
   "id": "94a4ceda-db0c-4e81-ab1f-d386eea074a7",
   "metadata": {},
   "outputs": [],
   "source": []
  }
 ],
 "metadata": {
  "kernelspec": {
   "display_name": "Python 3 (ipykernel)",
   "language": "python",
   "name": "python3"
  },
  "language_info": {
   "codemirror_mode": {
    "name": "ipython",
    "version": 3
   },
   "file_extension": ".py",
   "mimetype": "text/x-python",
   "name": "python",
   "nbconvert_exporter": "python",
   "pygments_lexer": "ipython3",
   "version": "3.11.8"
  }
 },
 "nbformat": 4,
 "nbformat_minor": 5
}
